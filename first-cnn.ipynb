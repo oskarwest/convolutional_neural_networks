{
 "cells": [
  {
   "cell_type": "markdown",
   "id": "9d1e9688",
   "metadata": {
    "papermill": {
     "duration": 0.006312,
     "end_time": "2023-06-07T13:44:46.318422",
     "exception": false,
     "start_time": "2023-06-07T13:44:46.312110",
     "status": "completed"
    },
    "tags": []
   },
   "source": [
    "RED NEURONAL CONVOLUCIONAL:\n",
    "\n",
    "Para este ejercicio vamos a clasificar imagenes de prendas de ropa "
   ]
  },
  {
   "cell_type": "code",
   "execution_count": 1,
   "id": "02bbaa0d",
   "metadata": {
    "execution": {
     "iopub.execute_input": "2023-06-07T13:44:46.331959Z",
     "iopub.status.busy": "2023-06-07T13:44:46.331487Z",
     "iopub.status.idle": "2023-06-07T13:44:53.013484Z",
     "shell.execute_reply": "2023-06-07T13:44:53.012492Z"
    },
    "papermill": {
     "duration": 6.694874,
     "end_time": "2023-06-07T13:44:53.019257",
     "exception": false,
     "start_time": "2023-06-07T13:44:46.324383",
     "status": "completed"
    },
    "tags": []
   },
   "outputs": [
    {
     "name": "stderr",
     "output_type": "stream",
     "text": [
      "/opt/conda/lib/python3.10/site-packages/tensorflow_io/python/ops/__init__.py:98: UserWarning: unable to load libtensorflow_io_plugins.so: unable to open file: libtensorflow_io_plugins.so, from paths: ['/opt/conda/lib/python3.10/site-packages/tensorflow_io/python/ops/libtensorflow_io_plugins.so']\n",
      "caused by: ['/opt/conda/lib/python3.10/site-packages/tensorflow_io/python/ops/libtensorflow_io_plugins.so: undefined symbol: _ZN3tsl6StatusC1EN10tensorflow5error4CodeESt17basic_string_viewIcSt11char_traitsIcEENS_14SourceLocationE']\n",
      "  warnings.warn(f\"unable to load libtensorflow_io_plugins.so: {e}\")\n",
      "/opt/conda/lib/python3.10/site-packages/tensorflow_io/python/ops/__init__.py:104: UserWarning: file system plugins are not loaded: unable to open file: libtensorflow_io.so, from paths: ['/opt/conda/lib/python3.10/site-packages/tensorflow_io/python/ops/libtensorflow_io.so']\n",
      "caused by: ['/opt/conda/lib/python3.10/site-packages/tensorflow_io/python/ops/libtensorflow_io.so: undefined symbol: _ZTVN10tensorflow13GcsFileSystemE']\n",
      "  warnings.warn(f\"file system plugins are not loaded: {e}\")\n"
     ]
    }
   ],
   "source": [
    "import tensorflow as tf\n",
    "from tensorflow.keras.datasets import fashion_mnist\n",
    "from tensorflow.keras.layers import Conv2D, Dropout, MaxPooling2D, Flatten, Dense\n",
    "import numpy as np\n",
    "import matplotlib.pyplot as plt\n"
   ]
  },
  {
   "cell_type": "code",
   "execution_count": 2,
   "id": "161b56de",
   "metadata": {
    "execution": {
     "iopub.execute_input": "2023-06-07T13:44:53.038256Z",
     "iopub.status.busy": "2023-06-07T13:44:53.037623Z",
     "iopub.status.idle": "2023-06-07T13:44:54.033164Z",
     "shell.execute_reply": "2023-06-07T13:44:54.032206Z"
    },
    "papermill": {
     "duration": 1.007456,
     "end_time": "2023-06-07T13:44:54.035645",
     "exception": false,
     "start_time": "2023-06-07T13:44:53.028189",
     "status": "completed"
    },
    "tags": []
   },
   "outputs": [
    {
     "name": "stdout",
     "output_type": "stream",
     "text": [
      "Downloading data from https://storage.googleapis.com/tensorflow/tf-keras-datasets/train-labels-idx1-ubyte.gz\n",
      "29515/29515 [==============================] - 0s 0us/step\n",
      "Downloading data from https://storage.googleapis.com/tensorflow/tf-keras-datasets/train-images-idx3-ubyte.gz\n",
      "26421880/26421880 [==============================] - 0s 0us/step\n",
      "Downloading data from https://storage.googleapis.com/tensorflow/tf-keras-datasets/t10k-labels-idx1-ubyte.gz\n",
      "5148/5148 [==============================] - 0s 0us/step\n",
      "Downloading data from https://storage.googleapis.com/tensorflow/tf-keras-datasets/t10k-images-idx3-ubyte.gz\n",
      "4422102/4422102 [==============================] - 0s 0us/step\n"
     ]
    }
   ],
   "source": [
    "(train_images, train_labels),(test_images, test_labels)=fashion_mnist.load_data()"
   ]
  },
  {
   "cell_type": "code",
   "execution_count": 3,
   "id": "9083bea7",
   "metadata": {
    "execution": {
     "iopub.execute_input": "2023-06-07T13:44:54.051371Z",
     "iopub.status.busy": "2023-06-07T13:44:54.051029Z",
     "iopub.status.idle": "2023-06-07T13:44:54.057910Z",
     "shell.execute_reply": "2023-06-07T13:44:54.057061Z"
    },
    "papermill": {
     "duration": 0.017066,
     "end_time": "2023-06-07T13:44:54.060069",
     "exception": false,
     "start_time": "2023-06-07T13:44:54.043003",
     "status": "completed"
    },
    "tags": []
   },
   "outputs": [
    {
     "data": {
      "text/plain": [
       "(60000, 28, 28)"
      ]
     },
     "execution_count": 3,
     "metadata": {},
     "output_type": "execute_result"
    }
   ],
   "source": [
    "train_images.shape"
   ]
  },
  {
   "cell_type": "code",
   "execution_count": 4,
   "id": "6b5c47dc",
   "metadata": {
    "execution": {
     "iopub.execute_input": "2023-06-07T13:44:54.076505Z",
     "iopub.status.busy": "2023-06-07T13:44:54.075998Z",
     "iopub.status.idle": "2023-06-07T13:44:54.346885Z",
     "shell.execute_reply": "2023-06-07T13:44:54.345980Z"
    },
    "papermill": {
     "duration": 0.281796,
     "end_time": "2023-06-07T13:44:54.348966",
     "exception": false,
     "start_time": "2023-06-07T13:44:54.067170",
     "status": "completed"
    },
    "tags": []
   },
   "outputs": [
    {
     "data": {
      "text/plain": [
       "<matplotlib.image.AxesImage at 0x78481afa79a0>"
      ]
     },
     "execution_count": 4,
     "metadata": {},
     "output_type": "execute_result"
    },
    {
     "data": {
      "image/png": "[encoded data removed]",
      "text/plain": [
       "<Figure size 640x480 with 1 Axes>"
      ]
     },
     "metadata": {},
     "output_type": "display_data"
    }
   ],
   "source": [
    "plt.imshow(train_images[251])"
   ]
  },
  {
   "cell_type": "markdown",
   "id": "e45b76be",
   "metadata": {
    "papermill": {
     "duration": 0.007323,
     "end_time": "2023-06-07T13:44:54.363686",
     "exception": false,
     "start_time": "2023-06-07T13:44:54.356363",
     "status": "completed"
    },
    "tags": []
   },
   "source": [
    "<h1>Limpieza de los datos</h1>"
   ]
  },
  {
   "cell_type": "markdown",
   "id": "5cb3e816",
   "metadata": {
    "papermill": {
     "duration": 0.007038,
     "end_time": "2023-06-07T13:44:54.378206",
     "exception": false,
     "start_time": "2023-06-07T13:44:54.371168",
     "status": "completed"
    },
    "tags": []
   },
   "source": [
    "Reescalamos los valores"
   ]
  },
  {
   "cell_type": "code",
   "execution_count": 5,
   "id": "409e3193",
   "metadata": {
    "execution": {
     "iopub.execute_input": "2023-06-07T13:44:54.394387Z",
     "iopub.status.busy": "2023-06-07T13:44:54.393612Z",
     "iopub.status.idle": "2023-06-07T13:44:54.473133Z",
     "shell.execute_reply": "2023-06-07T13:44:54.472146Z"
    },
    "papermill": {
     "duration": 0.090269,
     "end_time": "2023-06-07T13:44:54.475658",
     "exception": false,
     "start_time": "2023-06-07T13:44:54.385389",
     "status": "completed"
    },
    "tags": []
   },
   "outputs": [],
   "source": [
    "train_images=train_images.astype('float32')/255\n",
    "test_images=test_images.astype('float32')/255"
   ]
  },
  {
   "cell_type": "markdown",
   "id": "f1921000",
   "metadata": {
    "papermill": {
     "duration": 0.007207,
     "end_time": "2023-06-07T13:44:54.490661",
     "exception": false,
     "start_time": "2023-06-07T13:44:54.483454",
     "status": "completed"
    },
    "tags": []
   },
   "source": [
    "Un reshape a escala de grises"
   ]
  },
  {
   "cell_type": "code",
   "execution_count": 6,
   "id": "8d86da17",
   "metadata": {
    "execution": {
     "iopub.execute_input": "2023-06-07T13:44:54.506978Z",
     "iopub.status.busy": "2023-06-07T13:44:54.506471Z",
     "iopub.status.idle": "2023-06-07T13:44:54.511396Z",
     "shell.execute_reply": "2023-06-07T13:44:54.510455Z"
    },
    "papermill": {
     "duration": 0.015182,
     "end_time": "2023-06-07T13:44:54.513388",
     "exception": false,
     "start_time": "2023-06-07T13:44:54.498206",
     "status": "completed"
    },
    "tags": []
   },
   "outputs": [],
   "source": [
    "train_images=train_images.reshape(train_images.shape[0],28,28,1)\n",
    "test_images=test_images.reshape(test_images.shape[0],28,28,1)"
   ]
  },
  {
   "cell_type": "markdown",
   "id": "793d0a86",
   "metadata": {
    "papermill": {
     "duration": 0.007052,
     "end_time": "2023-06-07T13:44:54.527682",
     "exception": false,
     "start_time": "2023-06-07T13:44:54.520630",
     "status": "completed"
    },
    "tags": []
   },
   "source": [
    "Categorizar los labels para que queden en un arreglo de 0 y 1, donde la posicion con 1 indica el tipo de prenda."
   ]
  },
  {
   "cell_type": "code",
   "execution_count": 7,
   "id": "668f711b",
   "metadata": {
    "execution": {
     "iopub.execute_input": "2023-06-07T13:44:54.543328Z",
     "iopub.status.busy": "2023-06-07T13:44:54.543024Z",
     "iopub.status.idle": "2023-06-07T13:44:54.548738Z",
     "shell.execute_reply": "2023-06-07T13:44:54.547882Z"
    },
    "papermill": {
     "duration": 0.015761,
     "end_time": "2023-06-07T13:44:54.550725",
     "exception": false,
     "start_time": "2023-06-07T13:44:54.534964",
     "status": "completed"
    },
    "tags": []
   },
   "outputs": [],
   "source": [
    "train_labels=tf.keras.utils.to_categorical(train_labels,10)\n",
    "test_labels=tf.keras.utils.to_categorical(test_labels,10)"
   ]
  },
  {
   "cell_type": "markdown",
   "id": "eca75f3a",
   "metadata": {
    "papermill": {
     "duration": 0.007029,
     "end_time": "2023-06-07T13:44:54.564961",
     "exception": false,
     "start_time": "2023-06-07T13:44:54.557932",
     "status": "completed"
    },
    "tags": []
   },
   "source": [
    "<H1>MODELO DE DATOS</H1>"
   ]
  },
  {
   "cell_type": "code",
   "execution_count": 8,
   "id": "9e1b4d41",
   "metadata": {
    "execution": {
     "iopub.execute_input": "2023-06-07T13:44:54.580664Z",
     "iopub.status.busy": "2023-06-07T13:44:54.580403Z",
     "iopub.status.idle": "2023-06-07T13:44:58.725414Z",
     "shell.execute_reply": "2023-06-07T13:44:58.724633Z"
    },
    "papermill": {
     "duration": 4.172729,
     "end_time": "2023-06-07T13:44:58.745004",
     "exception": false,
     "start_time": "2023-06-07T13:44:54.572275",
     "status": "completed"
    },
    "tags": []
   },
   "outputs": [
    {
     "name": "stdout",
     "output_type": "stream",
     "text": [
      "Model: \"sequential\"\n",
      "_________________________________________________________________\n",
      " Layer (type)                Output Shape              Param #   \n",
      "=================================================================\n",
      " conv2d (Conv2D)             (None, 28, 28, 64)        320       \n",
      "                                                                 \n",
      " max_pooling2d (MaxPooling2D  (None, 14, 14, 64)       0         \n",
      " )                                                               \n",
      "                                                                 \n",
      " dropout (Dropout)           (None, 14, 14, 64)        0         \n",
      "                                                                 \n",
      " conv2d_1 (Conv2D)           (None, 14, 14, 32)        8224      \n",
      "                                                                 \n",
      " max_pooling2d_1 (MaxPooling  (None, 7, 7, 32)         0         \n",
      " 2D)                                                             \n",
      "                                                                 \n",
      " dropout_1 (Dropout)         (None, 7, 7, 32)          0         \n",
      "                                                                 \n",
      " flatten (Flatten)           (None, 1568)              0         \n",
      "                                                                 \n",
      " dense (Dense)               (None, 256)               401664    \n",
      "                                                                 \n",
      " dropout_2 (Dropout)         (None, 256)               0         \n",
      "                                                                 \n",
      " dense_1 (Dense)             (None, 10)                2570      \n",
      "                                                                 \n",
      "=================================================================\n",
      "Total params: 412,778\n",
      "Trainable params: 412,778\n",
      "Non-trainable params: 0\n",
      "_________________________________________________________________\n"
     ]
    }
   ],
   "source": [
    "model=tf.keras.Sequential()\n",
    "#must define the input shape in the first layer of the neuronal network\n",
    "model.add(Conv2D(filters=64, kernel_size=2, padding='same',activation='relu', input_shape=(28,28,1)))\n",
    "model.add(MaxPooling2D(pool_size=2))\n",
    "model.add(Dropout(0.3))\n",
    "model.add(Conv2D(filters=32, kernel_size=2, padding='same',activation='relu'))\n",
    "model.add(MaxPooling2D(pool_size=2))\n",
    "model.add(Dropout(0.3))\n",
    "model.add(Flatten())\n",
    "model.add(Dense(256, activation='relu'))\n",
    "model.add(Dropout(0.5))\n",
    "model.add(Dense(10, activation='softmax'))\n",
    "#take a look at the model summary\n",
    "model.summary()"
   ]
  },
  {
   "cell_type": "markdown",
   "id": "a31efe8c",
   "metadata": {
    "papermill": {
     "duration": 0.010193,
     "end_time": "2023-06-07T13:44:58.764897",
     "exception": false,
     "start_time": "2023-06-07T13:44:58.754704",
     "status": "completed"
    },
    "tags": []
   },
   "source": [
    "## compilar - entrenar"
   ]
  },
  {
   "cell_type": "code",
   "execution_count": 9,
   "id": "b2414adf",
   "metadata": {
    "execution": {
     "iopub.execute_input": "2023-06-07T13:44:58.785184Z",
     "iopub.status.busy": "2023-06-07T13:44:58.784870Z",
     "iopub.status.idle": "2023-06-07T13:44:58.800345Z",
     "shell.execute_reply": "2023-06-07T13:44:58.799508Z"
    },
    "papermill": {
     "duration": 0.028085,
     "end_time": "2023-06-07T13:44:58.802407",
     "exception": false,
     "start_time": "2023-06-07T13:44:58.774322",
     "status": "completed"
    },
    "tags": []
   },
   "outputs": [],
   "source": [
    "model.compile(loss='categorical_crossentropy',\n",
    "             optimizer='rmsprop',\n",
    "             metrics=['accuracy'])"
   ]
  },
  {
   "cell_type": "code",
   "execution_count": 10,
   "id": "6c984bbe",
   "metadata": {
    "execution": {
     "iopub.execute_input": "2023-06-07T13:44:58.824070Z",
     "iopub.status.busy": "2023-06-07T13:44:58.822525Z",
     "iopub.status.idle": "2023-06-07T13:44:59.404724Z",
     "shell.execute_reply": "2023-06-07T13:44:59.403440Z"
    },
    "papermill": {
     "duration": 0.594337,
     "end_time": "2023-06-07T13:44:59.406170",
     "exception": true,
     "start_time": "2023-06-07T13:44:58.811833",
     "status": "failed"
    },
    "tags": []
   },
   "outputs": [
    {
     "ename": "NameError",
     "evalue": "name 'early' is not defined",
     "output_type": "error",
     "traceback": [
      "\u001b[0;31m---------------------------------------------------------------------------\u001b[0m",
      "\u001b[0;31mNameError\u001b[0m                                 Traceback (most recent call last)",
      "Cell \u001b[0;32mIn[10], line 1\u001b[0m\n\u001b[0;32m----> 1\u001b[0m model\u001b[38;5;241m.\u001b[39mfit(train_images, train_labels, batch_size\u001b[38;5;241m=\u001b[39m\u001b[38;5;241m64\u001b[39m, callbacks\u001b[38;5;241m=\u001b[39m[\u001b[43mearly\u001b[49m], epochs\u001b[38;5;241m=\u001b[39m\u001b[38;5;241m10\u001b[39m)\n",
      "\u001b[0;31mNameError\u001b[0m: name 'early' is not defined"
     ]
    }
   ],
   "source": [
    "model.fit(train_images, train_labels, batch_size=64, callbacks=[early], epochs=10)"
   ]
  },
  {
   "cell_type": "code",
   "execution_count": null,
   "id": "d14e48a1",
   "metadata": {
    "execution": {
     "iopub.execute_input": "2023-06-07T13:14:09.111393Z",
     "iopub.status.busy": "2023-06-07T13:14:09.111030Z",
     "iopub.status.idle": "2023-06-07T13:14:10.603797Z",
     "shell.execute_reply": "2023-06-07T13:14:10.602831Z",
     "shell.execute_reply.started": "2023-06-07T13:14:09.111360Z"
    },
    "papermill": {
     "duration": null,
     "end_time": null,
     "exception": null,
     "start_time": null,
     "status": "pending"
    },
    "tags": []
   },
   "outputs": [],
   "source": [
    "score=model.evaluate(test_images, test_labels, verbose=0)\n",
    "score"
   ]
  },
  {
   "cell_type": "markdown",
   "id": "ae03973e",
   "metadata": {
    "papermill": {
     "duration": null,
     "end_time": null,
     "exception": null,
     "start_time": null,
     "status": "pending"
    },
    "tags": []
   },
   "source": [
    "<h1>Early Stoping</h1>"
   ]
  },
  {
   "cell_type": "code",
   "execution_count": null,
   "id": "682a40a5",
   "metadata": {
    "execution": {
     "iopub.execute_input": "2023-06-07T13:14:10.605910Z",
     "iopub.status.busy": "2023-06-07T13:14:10.605532Z",
     "iopub.status.idle": "2023-06-07T13:14:50.269581Z",
     "shell.execute_reply": "2023-06-07T13:14:50.268583Z",
     "shell.execute_reply.started": "2023-06-07T13:14:10.605864Z"
    },
    "papermill": {
     "duration": null,
     "end_time": null,
     "exception": null,
     "start_time": null,
     "status": "pending"
    },
    "tags": []
   },
   "outputs": [],
   "source": [
    "early = tf.keras.callbacks.EarlyStopping(monitor='accuracy', patience=1)\n",
    "model.fit(train_images, train_labels, batch_size=64, callbacks=[early], epochs=10)"
   ]
  },
  {
   "cell_type": "markdown",
   "id": "d24c6afd",
   "metadata": {
    "papermill": {
     "duration": null,
     "end_time": null,
     "exception": null,
     "start_time": null,
     "status": "pending"
    },
    "tags": []
   },
   "source": [
    "<h1> Checkpoint </h1>"
   ]
  },
  {
   "cell_type": "code",
   "execution_count": null,
   "id": "7ec13249",
   "metadata": {
    "execution": {
     "iopub.execute_input": "2023-06-07T13:14:50.271625Z",
     "iopub.status.busy": "2023-06-07T13:14:50.271269Z",
     "iopub.status.idle": "2023-06-07T13:15:36.414298Z",
     "shell.execute_reply": "2023-06-07T13:15:36.413116Z",
     "shell.execute_reply.started": "2023-06-07T13:14:50.271592Z"
    },
    "papermill": {
     "duration": null,
     "end_time": null,
     "exception": null,
     "start_time": null,
     "status": "pending"
    },
    "tags": []
   },
   "outputs": [],
   "source": [
    "checkpoint=tf.keras.callbacks.ModelCheckpoint(filepath='my_first_cnn.hdf5',\n",
    "                                  verbose=1,\n",
    "                                  monitor='accuracy',\n",
    "                                  )\n",
    "model.fit(train_images, train_labels, batch_size=64, callbacks=[checkpoint], epochs=10)\n"
   ]
  },
  {
   "cell_type": "code",
   "execution_count": null,
   "id": "34c02230",
   "metadata": {
    "execution": {
     "iopub.execute_input": "2023-06-07T13:17:30.194652Z",
     "iopub.status.busy": "2023-06-07T13:17:30.194286Z",
     "iopub.status.idle": "2023-06-07T13:17:30.221469Z",
     "shell.execute_reply": "2023-06-07T13:17:30.220564Z",
     "shell.execute_reply.started": "2023-06-07T13:17:30.194622Z"
    },
    "papermill": {
     "duration": null,
     "end_time": null,
     "exception": null,
     "start_time": null,
     "status": "pending"
    },
    "tags": []
   },
   "outputs": [],
   "source": [
    "model2=model\n",
    "model2.load_weights('./my_first_cnn.hdf5')"
   ]
  },
  {
   "cell_type": "code",
   "execution_count": null,
   "id": "2d7e4887",
   "metadata": {
    "execution": {
     "iopub.execute_input": "2023-06-07T13:17:52.363865Z",
     "iopub.status.busy": "2023-06-07T13:17:52.363513Z",
     "iopub.status.idle": "2023-06-07T13:17:53.714798Z",
     "shell.execute_reply": "2023-06-07T13:17:53.713753Z",
     "shell.execute_reply.started": "2023-06-07T13:17:52.363837Z"
    },
    "papermill": {
     "duration": null,
     "end_time": null,
     "exception": null,
     "start_time": null,
     "status": "pending"
    },
    "tags": []
   },
   "outputs": [],
   "source": [
    "model2.evaluate(test_images, test_labels)"
   ]
  }
 ],
 "metadata": {
  "kernelspec": {
   "display_name": "Python 3",
   "language": "python",
   "name": "python3"
  },
  "language_info": {
   "codemirror_mode": {
    "name": "ipython",
    "version": 3
   },
   "file_extension": ".py",
   "mimetype": "text/x-python",
   "name": "python",
   "nbconvert_exporter": "python",
   "pygments_lexer": "ipython3",
   "version": "3.10.10"
  },
  "papermill": {
   "default_parameters": {},
   "duration": 26.675083,
   "end_time": "2023-06-07T13:45:02.443957",
   "environment_variables": {},
   "exception": true,
   "input_path": "__notebook__.ipynb",
   "output_path": "__notebook__.ipynb",
   "parameters": {},
   "start_time": "2023-06-07T13:44:35.768874",
   "version": "2.4.0"
  }
 },
 "nbformat": 4,
 "nbformat_minor": 5
}
